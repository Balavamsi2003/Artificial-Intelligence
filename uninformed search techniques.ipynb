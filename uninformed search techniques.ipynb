{
 "cells": [
  {
   "cell_type": "markdown",
   "id": "9e9733a4",
   "metadata": {},
   "source": [
    "DFS"
   ]
  },
  {
   "cell_type": "code",
   "execution_count": 7,
   "id": "1f2ded80",
   "metadata": {},
   "outputs": [],
   "source": [
    "def dfs(graph,start,goal):\n",
    "    frontier,explored=[],[]\n",
    "    explored.append(start)\n",
    "    frontier.append(start)\n",
    "    while frontier :\n",
    "        node=frontier.pop()\n",
    "        if node==goal:\n",
    "            print(\"Goal node found\")\n",
    "            break\n",
    "        for i in graph[node]:\n",
    "            if i not in explored:\n",
    "                explored.append(i)\n",
    "                frontier.append(i)\n",
    "    if len(frontier)==0:\n",
    "        print(\"Goal node is not found\")"
   ]
  },
  {
   "cell_type": "code",
   "execution_count": 6,
   "id": "53b8d739",
   "metadata": {},
   "outputs": [
    {
     "name": "stdout",
     "output_type": "stream",
     "text": [
      "Goal node found\n"
     ]
    }
   ],
   "source": [
    "graph={0:[1,2],1:[3],2:[3,4],3:[4],4:[0]}\n",
    "dfs(graph,0,2)"
   ]
  },
  {
   "cell_type": "markdown",
   "id": "f14b475c",
   "metadata": {},
   "source": [
    "BFS"
   ]
  },
  {
   "cell_type": "code",
   "execution_count": 45,
   "id": "f491bc89",
   "metadata": {},
   "outputs": [],
   "source": [
    "def bfs(graph,start,goal):\n",
    "    frontier,explored=[],[]\n",
    "    explored.append(start)\n",
    "    frontier.append(start)\n",
    "    while frontier :\n",
    "        node=frontier.pop(0)\n",
    "        if node==goal:\n",
    "            print(\"Goal node found\")\n",
    "            break\n",
    "        for i in graph[node]:\n",
    "            if i not in explored:\n",
    "                explored.append(i)\n",
    "                frontier.append(i)\n",
    "        if len(frontier)==0:\n",
    "             print(\"Goal node is not found\")"
   ]
  },
  {
   "cell_type": "code",
   "execution_count": 47,
   "id": "36811257",
   "metadata": {},
   "outputs": [
    {
     "name": "stdout",
     "output_type": "stream",
     "text": [
      "Goal node found\n"
     ]
    }
   ],
   "source": [
    "graph={0:[1,2],1:[3],2:[3,4],3:[4],4:[0]}\n",
    "bfs(graph,0,4)"
   ]
  },
  {
   "cell_type": "markdown",
   "id": "0a4f30a4",
   "metadata": {},
   "source": [
    "DLS"
   ]
  },
  {
   "cell_type": "code",
   "execution_count": 98,
   "id": "d6a36b50",
   "metadata": {},
   "outputs": [],
   "source": [
    "def dls(graph,start,goal,depth):\n",
    "    frontier,explored=[],[]\n",
    "    explored.append(start)\n",
    "    frontier.append(start)\n",
    "    level=0\n",
    "    flag=0\n",
    "    while frontier and level<=depth:\n",
    "        node=frontier.pop()\n",
    "        if node==goal:\n",
    "            flag=1\n",
    "            return flag\n",
    "            break\n",
    "        for i in graph[node]:\n",
    "            if i not in explored:\n",
    "                explored.append(i)\n",
    "                frontier.append(i)\n",
    "        level+=1\n",
    "    if len(frontier)==0 or level>depth:\n",
    "        return flag\n",
    "        "
   ]
  },
  {
   "cell_type": "code",
   "execution_count": 99,
   "id": "da8118a3",
   "metadata": {},
   "outputs": [
    {
     "name": "stdout",
     "output_type": "stream",
     "text": [
      "Goal node is not found\n"
     ]
    }
   ],
   "source": [
    "graph={0:[1,2],1:[3],2:[3,4],3:[4],4:[0]}\n",
    "res=dls(graph,0,4,1)\n",
    "if res==1:\n",
    "    print(\"Goal node found\")\n",
    "else:\n",
    "    print(\"Goal node is not found\")"
   ]
  },
  {
   "cell_type": "markdown",
   "id": "3d868156",
   "metadata": {},
   "source": [
    "IDFS"
   ]
  },
  {
   "cell_type": "code",
   "execution_count": 86,
   "id": "bc304e5c",
   "metadata": {},
   "outputs": [],
   "source": [
    "def idfs(graph,start,goal):\n",
    "    res=[]\n",
    "    for d in range(5):\n",
    "        res.append(dls(graph,start,goal,d))\n",
    "    if res[-1]==1:\n",
    "        print(\"Goal node found\")\n",
    "    else:\n",
    "        print(\"Goal node not found\")"
   ]
  },
  {
   "cell_type": "code",
   "execution_count": 87,
   "id": "72b19d35",
   "metadata": {},
   "outputs": [
    {
     "name": "stdout",
     "output_type": "stream",
     "text": [
      "Goal node found\n"
     ]
    }
   ],
   "source": [
    "graph={0:[1,2],1:[3],2:[3,4],3:[4],4:[0]}\n",
    "idfs(graph,0,4)"
   ]
  },
  {
   "cell_type": "markdown",
   "id": "fcdb5bf5",
   "metadata": {},
   "source": [
    "Uniform cost"
   ]
  },
  {
   "cell_type": "code",
   "execution_count": null,
   "id": "24121a0d",
   "metadata": {},
   "outputs": [],
   "source": []
  }
 ],
 "metadata": {
  "kernelspec": {
   "display_name": "Python 3 (ipykernel)",
   "language": "python",
   "name": "python3"
  },
  "language_info": {
   "codemirror_mode": {
    "name": "ipython",
    "version": 3
   },
   "file_extension": ".py",
   "mimetype": "text/x-python",
   "name": "python",
   "nbconvert_exporter": "python",
   "pygments_lexer": "ipython3",
   "version": "3.11.3"
  }
 },
 "nbformat": 4,
 "nbformat_minor": 5
}
