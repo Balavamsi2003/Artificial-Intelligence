{
 "cells": [
  {
   "cell_type": "code",
   "execution_count": 115,
   "id": "e587c781",
   "metadata": {},
   "outputs": [],
   "source": [
    "graph={0:{(1,36),(2,37),(3,32)}\n",
    "       ,1:{(4,38),(5,25)}\n",
    "       ,2:{(6,24)}\n",
    "       ,3:{(7,17),(8,19)}\n",
    "       ,4:{},\n",
    "         5:{},\n",
    "       6:{},\n",
    "       8:{},\n",
    "       7:{(9,16)}}\n",
    "h={0:20,1:22,2:21,3:10,4:25,5:24,6:30,7:5,8:12,9:0}"
   ]
  },
  {
   "cell_type": "code",
   "execution_count": 116,
   "id": "0cf15db0",
   "metadata": {},
   "outputs": [],
   "source": [
    "def Neighbours(graph,node):\n",
    "    l=[]\n",
    "    for neighbour in graph[node]:\n",
    "        l.append(neighbour[0])\n",
    "    return l"
   ]
  },
  {
   "cell_type": "code",
   "execution_count": 75,
   "id": "eef4ef63",
   "metadata": {},
   "outputs": [
    {
     "name": "stdout",
     "output_type": "stream",
     "text": [
      "At step 1 :\n",
      "Frontier is : ['3']\n",
      "Explored is : {'3'}\n",
      "At step 2 :\n",
      "Frontier is : ['7']\n",
      "Explored is : {'3', '7'}\n",
      "At step 3 :\n",
      "Frontier is : ['9']\n",
      "Explored is : {'9', '3', '7'}\n",
      "Goal found\n"
     ]
    },
    {
     "data": {
      "text/plain": [
       "['0', '3', '7', '9']"
      ]
     },
     "execution_count": 75,
     "metadata": {},
     "output_type": "execute_result"
    }
   ],
   "source": [
    "\n",
    "def Gfs(initial,goal,graph,h):\n",
    "    frontier,path,next_vertices=[],[],[]\n",
    "    frontier.append(initial)\n",
    "    path.append(initial)\n",
    "    explored=set()\n",
    "    j=1\n",
    "    while frontier:\n",
    "        node=frontier.pop()\n",
    "        #print(node)\n",
    "        if node==goal:\n",
    "            print(\"Goal found\")\n",
    "            return path\n",
    "        else:\n",
    "            next_vertices=Neighbours(graph,node)\n",
    "            v=next_vertices[0]\n",
    "            \n",
    "            for i in range(1,len(next_vertices)):\n",
    "                if h[next_vertices[i]]<=h[v]:\n",
    "                    v=next_vertices[i]\n",
    "            if v not in explored:\n",
    "                frontier.append(v)\n",
    "                path.append(v)\n",
    "                explored.add(v)\n",
    "        print(f\"At step {j} :\")\n",
    "        print(\"Frontier is :\",frontier)\n",
    "        print(\"Explored is :\",explored)\n",
    "        j+=1\n",
    "    return (\"Goal not found\")\n",
    "\n",
    "            \n",
    "   \n",
    "    \n",
    "start='0'\n",
    "goal='9'\n",
    "Gfs(start,goal,graph,h)\n",
    " \n",
    "#Node(child).cost\n",
    "\n"
   ]
  },
  {
   "cell_type": "code",
   "execution_count": 124,
   "id": "72208897",
   "metadata": {},
   "outputs": [],
   "source": [
    "def NeighboursandCost(g,node):\n",
    "    l=[]\n",
    "    for neighbour in graph[node]:\n",
    "        l.append(neighbour)\n",
    "    return l"
   ]
  },
  {
   "cell_type": "code",
   "execution_count": 125,
   "id": "e27fc529",
   "metadata": {},
   "outputs": [],
   "source": [
    "def Astar(initial,goal,g,heuristic):\n",
    "    frontier,path,next_vertices=[],[],[]\n",
    "    frontier.append(initial)\n",
    "    path.append(initial)\n",
    "    explored=set()\n",
    "    j=1\n",
    "    while frontier:\n",
    "        node=frontier.pop()\n",
    "        #print(node)\n",
    "        if node==goal:\n",
    "            print(\"Goal found\")\n",
    "            return path\n",
    "        else:\n",
    "            next_vertices=NeighboursandCost(g,node)\n",
    "            v=next_vertices[0][0]\n",
    "            min_f_value=next_vertices[v][1]+heuristic[next_vertices[v][0]]\n",
    "            for i in range(1,len(next_vertices)):\n",
    "                f_value=next_vertices[i][1]+heuristic[next_vertices[i][0]]\n",
    "                if f_value<=min_f_value:\n",
    "                    v=next_vertices[i][0]\n",
    "                    min_f_value=next_vertices[v][1]+heuristic[next_vertices[v][0]]    \n",
    "                print(v)\n",
    "            if v not in explored:\n",
    "                frontier.append(v)\n",
    "                path.append(v)\n",
    "                explored.add(v)\n",
    "        print(f\"At step {j} :\")\n",
    "        print(\"Frontier is :\",frontier)\n",
    "        print(\"Explored is :\",explored)\n",
    "        j+=1\n",
    "    return (\"Goal not found\")\n",
    "             \n",
    "    "
   ]
  },
  {
   "cell_type": "code",
   "execution_count": 79,
   "id": "d235ebf8",
   "metadata": {},
   "outputs": [
    {
     "name": "stdout",
     "output_type": "stream",
     "text": [
      "[('2', 37), ('3', 32), ('1', 36)]\n"
     ]
    }
   ],
   "source": [
    "res=NeighboursandCost(graph,'0')\n",
    "print(res)"
   ]
  },
  {
   "cell_type": "code",
   "execution_count": 123,
   "id": "b08765dd",
   "metadata": {},
   "outputs": [
    {
     "ename": "KeyError",
     "evalue": "'A'",
     "output_type": "error",
     "traceback": [
      "\u001b[1;31m---------------------------------------------------------------------------\u001b[0m",
      "\u001b[1;31mKeyError\u001b[0m                                  Traceback (most recent call last)",
      "Cell \u001b[1;32mIn[123], line 5\u001b[0m\n\u001b[0;32m      3\u001b[0m start\u001b[38;5;241m=\u001b[39m\u001b[38;5;124m'\u001b[39m\u001b[38;5;124mA\u001b[39m\u001b[38;5;124m'\u001b[39m\n\u001b[0;32m      4\u001b[0m goal\u001b[38;5;241m=\u001b[39m\u001b[38;5;124m'\u001b[39m\u001b[38;5;124mG\u001b[39m\u001b[38;5;124m'\u001b[39m\n\u001b[1;32m----> 5\u001b[0m Astar(start,goal,graph,h)\n",
      "Cell \u001b[1;32mIn[121], line 14\u001b[0m, in \u001b[0;36mAstar\u001b[1;34m(initial, goal, graph, h)\u001b[0m\n\u001b[0;32m     12\u001b[0m     \u001b[38;5;28;01mreturn\u001b[39;00m path\n\u001b[0;32m     13\u001b[0m \u001b[38;5;28;01melse\u001b[39;00m:\n\u001b[1;32m---> 14\u001b[0m     next_vertices\u001b[38;5;241m=\u001b[39mNeighboursandCost(graph,node)\n\u001b[0;32m     15\u001b[0m     v\u001b[38;5;241m=\u001b[39mnext_vertices[\u001b[38;5;241m0\u001b[39m][\u001b[38;5;241m0\u001b[39m]\n\u001b[0;32m     16\u001b[0m     min_f_value\u001b[38;5;241m=\u001b[39mnext_vertices[v][\u001b[38;5;241m1\u001b[39m]\u001b[38;5;241m+\u001b[39mh[next_vertices[v][\u001b[38;5;241m0\u001b[39m]]\n",
      "Cell \u001b[1;32mIn[78], line 3\u001b[0m, in \u001b[0;36mNeighboursandCost\u001b[1;34m(graph, node)\u001b[0m\n\u001b[0;32m      1\u001b[0m \u001b[38;5;28;01mdef\u001b[39;00m \u001b[38;5;21mNeighboursandCost\u001b[39m(graph,node):\n\u001b[0;32m      2\u001b[0m     l\u001b[38;5;241m=\u001b[39m[]\n\u001b[1;32m----> 3\u001b[0m     \u001b[38;5;28;01mfor\u001b[39;00m neighbour \u001b[38;5;129;01min\u001b[39;00m graph[node]:\n\u001b[0;32m      4\u001b[0m         l\u001b[38;5;241m.\u001b[39mappend(neighbour)\n\u001b[0;32m      5\u001b[0m     \u001b[38;5;28;01mreturn\u001b[39;00m l\n",
      "\u001b[1;31mKeyError\u001b[0m: 'A'"
     ]
    }
   ],
   "source": [
    "g={'A':{('B',2),('E',3)},'B':{('C',1),('G',9)},'C':{},'D':{('G',1)},'E':{('D',6)}}\n",
    "hueristic={'A':11,'B':6,'C':99,'D':1,'E':7,'G':6}\n",
    "start='A'\n",
    "goal='G'\n",
    "Astar(start,goal,graph,h)"
   ]
  },
  {
   "cell_type": "code",
   "execution_count": null,
   "id": "70e5ebed",
   "metadata": {},
   "outputs": [],
   "source": []
  }
 ],
 "metadata": {
  "kernelspec": {
   "display_name": "Python 3 (ipykernel)",
   "language": "python",
   "name": "python3"
  },
  "language_info": {
   "codemirror_mode": {
    "name": "ipython",
    "version": 3
   },
   "file_extension": ".py",
   "mimetype": "text/x-python",
   "name": "python",
   "nbconvert_exporter": "python",
   "pygments_lexer": "ipython3",
   "version": "3.11.3"
  }
 },
 "nbformat": 4,
 "nbformat_minor": 5
}
